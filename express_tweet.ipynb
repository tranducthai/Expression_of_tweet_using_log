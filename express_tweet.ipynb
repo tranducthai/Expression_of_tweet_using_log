{
  "nbformat": 4,
  "nbformat_minor": 0,
  "metadata": {
    "colab": {
      "provenance": [],
      "toc_visible": true
    },
    "kernelspec": {
      "name": "python3",
      "display_name": "Python 3"
    },
    "language_info": {
      "name": "python"
    }
  },
  "cells": [
    {
      "cell_type": "code",
      "execution_count": 1,
      "metadata": {
        "colab": {
          "base_uri": "https://localhost:8080/"
        },
        "id": "t6b5pjESXWWf",
        "outputId": "0a8b53b0-68c8-49e9-b7b7-35ff04b293df"
      },
      "outputs": [
        {
          "output_type": "stream",
          "name": "stderr",
          "text": [
            "[nltk_data] Downloading package stopwords to /root/nltk_data...\n",
            "[nltk_data]   Package stopwords is already up-to-date!\n",
            "[nltk_data] Downloading package twitter_samples to /root/nltk_data...\n",
            "[nltk_data]   Package twitter_samples is already up-to-date!\n"
          ]
        }
      ],
      "source": [
        "import numpy as np\n",
        "import pandas as pd\n",
        "import re\n",
        "import string\n",
        "import nltk\n",
        "nltk.download('stopwords')\n",
        "nltk.download('twitter_samples')\n",
        "from nltk.corpus import twitter_samples,stopwords\n",
        "from nltk.stem import PorterStemmer\n",
        "from nltk.tokenize import TweetTokenizer\n"
      ]
    },
    {
      "cell_type": "code",
      "source": [
        "def process_tweet(tweet):\n",
        "    #remove\n",
        "    stop_words=stopwords.words('english')\n",
        "    tweet=re.sub(r'\\$\\w*','',tweet)\n",
        "    tweet=re.sub(r'^RT[\\s]+','',tweet)\n",
        "    tweet=re.sub(r'https?:\\/\\/.*[\\r\\n]*','',tweet)\n",
        "    tweet=re.sub(r'#','',tweet)\n",
        "    #stem\n",
        "    clear_word=[]\n",
        "    stemmer=PorterStemmer()\n",
        "    tokenizer=TweetTokenizer(preserve_case=False,strip_handles=True,reduce_len=True)\n",
        "    tweet_tokens=tokenizer.tokenize(tweet)\n",
        "    for word in tweet_tokens:\n",
        "        if word not in stop_words and word not in string.punctuation:\n",
        "            stem_word=stemmer.stem(word)\n",
        "            clear_word.append(stem_word)\n",
        "    return clear_word"
      ],
      "metadata": {
        "id": "pY-JxQiUzkWq"
      },
      "execution_count": 2,
      "outputs": []
    },
    {
      "cell_type": "code",
      "source": [
        "def build_freq(tweets,sentiment):\n",
        "    sen_list=np.squeeze(sentiment).tolist()\n",
        "    freq={}\n",
        "    for x,tweet in zip(sen_list,tweets):\n",
        "        for word in process_tweet(tweet):\n",
        "            pair=(word,x)\n",
        "            if pair in freq:\n",
        "                freq[pair]+=1\n",
        "            else:\n",
        "                freq[pair]=1\n",
        "    return freq\n"
      ],
      "metadata": {
        "id": "gXIsoRh3zonN"
      },
      "execution_count": 3,
      "outputs": []
    },
    {
      "cell_type": "code",
      "source": [
        "pos_tweet=twitter_samples.strings('positive_tweets.json')\n",
        "neg_tweet=twitter_samples.strings('negative_tweets.json')\n",
        "pos_train=pos_tweet[:4000]\n",
        "neg_train=neg_tweet[:4000]\n",
        "pos_test=pos_tweet[4000:]\n",
        "neg_test=neg_tweet[4000:]\n",
        "train_data=pos_train+neg_train\n",
        "test_data=pos_test+neg_test"
      ],
      "metadata": {
        "id": "3rCCOnayztTq"
      },
      "execution_count": 4,
      "outputs": []
    },
    {
      "cell_type": "code",
      "source": [
        "y_pos_train=np.ones(len(pos_train))\n",
        "y_neg_train=np.zeros(len(neg_train))\n",
        "y_pos_test=np.ones(len(pos_test))\n",
        "y_neg_test=np.zeros(len(neg_test))\n",
        "label=np.append(y_pos_train,y_neg_train)\n",
        "y_test=np.append(y_pos_test,y_neg_test)"
      ],
      "metadata": {
        "id": "OeB6oGQ41aWe"
      },
      "execution_count": 5,
      "outputs": []
    },
    {
      "cell_type": "code",
      "source": [
        "freqs=build_freq(train_data,label)\n",
        "def extract_features(tweet,freqs):\n",
        "  words=process_tweet(tweet)\n",
        "  x=np.zeros((1,3))\n",
        "  x[0,0]=1\n",
        "  for word in words:\n",
        "    x[0,1]=x[0,1]+freqs.get((word, 1.0),0)\n",
        "    x[0,2]=x[0,2]+freqs.get((word, 0.0),0)\n",
        "  assert(x.shape==(1,3))\n",
        "  return x\n"
      ],
      "metadata": {
        "id": "TOy8Ujy_4TL5"
      },
      "execution_count": 6,
      "outputs": []
    },
    {
      "cell_type": "code",
      "source": [
        "train_x=np.zeros((len(train_data),3))\n",
        "for i in range(len(train_data)):\n",
        "  train_x[i]=extract_features(train_data[i],freqs)\n",
        "train_x"
      ],
      "metadata": {
        "colab": {
          "base_uri": "https://localhost:8080/"
        },
        "id": "djND5rVMK7eI",
        "outputId": "5331521f-1785-436c-f397-6f058ca2f2ba"
      },
      "execution_count": 7,
      "outputs": [
        {
          "output_type": "execute_result",
          "data": {
            "text/plain": [
              "array([[1.000e+00, 3.020e+03, 6.100e+01],\n",
              "       [1.000e+00, 3.573e+03, 4.440e+02],\n",
              "       [1.000e+00, 3.005e+03, 1.150e+02],\n",
              "       ...,\n",
              "       [1.000e+00, 1.440e+02, 7.830e+02],\n",
              "       [1.000e+00, 2.050e+02, 3.890e+03],\n",
              "       [1.000e+00, 1.890e+02, 3.974e+03]])"
            ]
          },
          "metadata": {},
          "execution_count": 7
        }
      ]
    },
    {
      "cell_type": "code",
      "source": [
        "train_x.shape,label.shape\n"
      ],
      "metadata": {
        "colab": {
          "base_uri": "https://localhost:8080/"
        },
        "id": "ce3sDEliMTBc",
        "outputId": "fd088cd6-a046-4067-a58a-bc7b64e1d74b"
      },
      "execution_count": 8,
      "outputs": [
        {
          "output_type": "execute_result",
          "data": {
            "text/plain": [
              "((8000, 3), (8000,))"
            ]
          },
          "metadata": {},
          "execution_count": 8
        }
      ]
    },
    {
      "cell_type": "code",
      "source": [
        "from sklearn.linear_model import LogisticRegression\n",
        "from sklearn.metrics import accuracy_score\n",
        "model=LogisticRegression()\n",
        "model.fit(train_x,label)\n"
      ],
      "metadata": {
        "colab": {
          "base_uri": "https://localhost:8080/",
          "height": 74
        },
        "id": "judLaZ36MohI",
        "outputId": "5c1ce49a-c634-4fcb-a2a0-ae47c5f94754"
      },
      "execution_count": 9,
      "outputs": [
        {
          "output_type": "execute_result",
          "data": {
            "text/plain": [
              "LogisticRegression()"
            ],
            "text/html": [
              "<style>#sk-container-id-1 {color: black;background-color: white;}#sk-container-id-1 pre{padding: 0;}#sk-container-id-1 div.sk-toggleable {background-color: white;}#sk-container-id-1 label.sk-toggleable__label {cursor: pointer;display: block;width: 100%;margin-bottom: 0;padding: 0.3em;box-sizing: border-box;text-align: center;}#sk-container-id-1 label.sk-toggleable__label-arrow:before {content: \"▸\";float: left;margin-right: 0.25em;color: #696969;}#sk-container-id-1 label.sk-toggleable__label-arrow:hover:before {color: black;}#sk-container-id-1 div.sk-estimator:hover label.sk-toggleable__label-arrow:before {color: black;}#sk-container-id-1 div.sk-toggleable__content {max-height: 0;max-width: 0;overflow: hidden;text-align: left;background-color: #f0f8ff;}#sk-container-id-1 div.sk-toggleable__content pre {margin: 0.2em;color: black;border-radius: 0.25em;background-color: #f0f8ff;}#sk-container-id-1 input.sk-toggleable__control:checked~div.sk-toggleable__content {max-height: 200px;max-width: 100%;overflow: auto;}#sk-container-id-1 input.sk-toggleable__control:checked~label.sk-toggleable__label-arrow:before {content: \"▾\";}#sk-container-id-1 div.sk-estimator input.sk-toggleable__control:checked~label.sk-toggleable__label {background-color: #d4ebff;}#sk-container-id-1 div.sk-label input.sk-toggleable__control:checked~label.sk-toggleable__label {background-color: #d4ebff;}#sk-container-id-1 input.sk-hidden--visually {border: 0;clip: rect(1px 1px 1px 1px);clip: rect(1px, 1px, 1px, 1px);height: 1px;margin: -1px;overflow: hidden;padding: 0;position: absolute;width: 1px;}#sk-container-id-1 div.sk-estimator {font-family: monospace;background-color: #f0f8ff;border: 1px dotted black;border-radius: 0.25em;box-sizing: border-box;margin-bottom: 0.5em;}#sk-container-id-1 div.sk-estimator:hover {background-color: #d4ebff;}#sk-container-id-1 div.sk-parallel-item::after {content: \"\";width: 100%;border-bottom: 1px solid gray;flex-grow: 1;}#sk-container-id-1 div.sk-label:hover label.sk-toggleable__label {background-color: #d4ebff;}#sk-container-id-1 div.sk-serial::before {content: \"\";position: absolute;border-left: 1px solid gray;box-sizing: border-box;top: 0;bottom: 0;left: 50%;z-index: 0;}#sk-container-id-1 div.sk-serial {display: flex;flex-direction: column;align-items: center;background-color: white;padding-right: 0.2em;padding-left: 0.2em;position: relative;}#sk-container-id-1 div.sk-item {position: relative;z-index: 1;}#sk-container-id-1 div.sk-parallel {display: flex;align-items: stretch;justify-content: center;background-color: white;position: relative;}#sk-container-id-1 div.sk-item::before, #sk-container-id-1 div.sk-parallel-item::before {content: \"\";position: absolute;border-left: 1px solid gray;box-sizing: border-box;top: 0;bottom: 0;left: 50%;z-index: -1;}#sk-container-id-1 div.sk-parallel-item {display: flex;flex-direction: column;z-index: 1;position: relative;background-color: white;}#sk-container-id-1 div.sk-parallel-item:first-child::after {align-self: flex-end;width: 50%;}#sk-container-id-1 div.sk-parallel-item:last-child::after {align-self: flex-start;width: 50%;}#sk-container-id-1 div.sk-parallel-item:only-child::after {width: 0;}#sk-container-id-1 div.sk-dashed-wrapped {border: 1px dashed gray;margin: 0 0.4em 0.5em 0.4em;box-sizing: border-box;padding-bottom: 0.4em;background-color: white;}#sk-container-id-1 div.sk-label label {font-family: monospace;font-weight: bold;display: inline-block;line-height: 1.2em;}#sk-container-id-1 div.sk-label-container {text-align: center;}#sk-container-id-1 div.sk-container {/* jupyter's `normalize.less` sets `[hidden] { display: none; }` but bootstrap.min.css set `[hidden] { display: none !important; }` so we also need the `!important` here to be able to override the default hidden behavior on the sphinx rendered scikit-learn.org. See: https://github.com/scikit-learn/scikit-learn/issues/21755 */display: inline-block !important;position: relative;}#sk-container-id-1 div.sk-text-repr-fallback {display: none;}</style><div id=\"sk-container-id-1\" class=\"sk-top-container\"><div class=\"sk-text-repr-fallback\"><pre>LogisticRegression()</pre><b>In a Jupyter environment, please rerun this cell to show the HTML representation or trust the notebook. <br />On GitHub, the HTML representation is unable to render, please try loading this page with nbviewer.org.</b></div><div class=\"sk-container\" hidden><div class=\"sk-item\"><div class=\"sk-estimator sk-toggleable\"><input class=\"sk-toggleable__control sk-hidden--visually\" id=\"sk-estimator-id-1\" type=\"checkbox\" checked><label for=\"sk-estimator-id-1\" class=\"sk-toggleable__label sk-toggleable__label-arrow\">LogisticRegression</label><div class=\"sk-toggleable__content\"><pre>LogisticRegression()</pre></div></div></div></div></div>"
            ]
          },
          "metadata": {},
          "execution_count": 9
        }
      ]
    },
    {
      "cell_type": "code",
      "source": [
        "test_x=np.zeros((len(test_data),3))\n",
        "for i in range(len(test_data)):\n",
        "  test_x[i]=extract_features(test_data[i],freqs)\n",
        "predict=model.predict(test_x)\n",
        "acc_score=accuracy_score(predict,y_test)\n",
        "acc_score\n"
      ],
      "metadata": {
        "colab": {
          "base_uri": "https://localhost:8080/"
        },
        "id": "N-IqvjYVM6MN",
        "outputId": "ad3e9b8f-3ad5-443b-e925-99953a3f4279"
      },
      "execution_count": 10,
      "outputs": [
        {
          "output_type": "execute_result",
          "data": {
            "text/plain": [
              "0.9915"
            ]
          },
          "metadata": {},
          "execution_count": 10
        }
      ]
    },
    {
      "cell_type": "markdown",
      "source": [
        "Check model\n"
      ],
      "metadata": {
        "id": "vvmHk_S2NlAo"
      }
    },
    {
      "cell_type": "code",
      "source": [
        "test1='Hope you are safe'\n",
        "test2='The food smells good'\n",
        "test3='Sorry I am late'\n",
        "test4='I am so tired hahahah :('\n",
        "test5='this is the best movie I have seen '\n",
        "test6=':(((('\n",
        "tests=[test1,test2,test3,test4,test5,test6]\n",
        "test_x=[]\n",
        "for test in tests:\n",
        "  test_x.append(extract_features(test,freqs))\n",
        "test_x=np.array(test_x)\n",
        "test_x=test_x.reshape(6,3)\n",
        "pre=model.predict(test_x)\n",
        "for i in range(len(tests)):\n",
        "  if pre[i]>0.5:\n",
        "    print(f'test{i+1} is positive')\n",
        "  else:\n",
        "    print(f'test{i+1} is negative')\n"
      ],
      "metadata": {
        "colab": {
          "base_uri": "https://localhost:8080/"
        },
        "id": "O3o67374O3rQ",
        "outputId": "f6bf73e7-c841-4c5f-ee57-04689009ca1e"
      },
      "execution_count": 11,
      "outputs": [
        {
          "output_type": "stream",
          "name": "stdout",
          "text": [
            "test1 is positive\n",
            "test2 is positive\n",
            "test3 is negative\n",
            "test4 is negative\n",
            "test5 is positive\n",
            "test6 is negative\n"
          ]
        }
      ]
    }
  ]
}
